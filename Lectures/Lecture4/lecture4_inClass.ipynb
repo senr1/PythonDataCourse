{
 "cells": [
  {
   "cell_type": "code",
   "execution_count": 1,
   "metadata": {},
   "outputs": [],
   "source": [
    "import numpy as np\n",
    "import matplotlib.pyplot as plt\n",
    "import pandas as pd\n",
    "import seaborn as sns; sns.set() # this sets the plotting aesthetic for the notebook"
   ]
  },
  {
   "cell_type": "code",
   "execution_count": 3,
   "metadata": {},
   "outputs": [
    {
     "ename": "SyntaxError",
     "evalue": "invalid syntax (<ipython-input-3-9d839a22e607>, line 5)",
     "output_type": "error",
     "traceback": [
      "\u001b[0;36m  File \u001b[0;32m\"<ipython-input-3-9d839a22e607>\"\u001b[0;36m, line \u001b[0;32m5\u001b[0m\n\u001b[0;31m    denomenator = np.sum((x_data-x_mean)**2)\u001b[0m\n\u001b[0m              ^\u001b[0m\n\u001b[0;31mSyntaxError\u001b[0m\u001b[0;31m:\u001b[0m invalid syntax\n"
     ]
    }
   ],
   "source": [
    "def fit(x_data,y_data):\n",
    "    x_mean = x_data.mean()\n",
    "    y_mean = y_data.mean(\n",
    "    numerator = np.sum((x_data-x_mean)*(y_data-y_data_mean))\n",
    "    denomenator = np.sum((x_data-x_mean)**2)\n",
    "\n",
    "    m_opt = numerator/denomenator\n",
    "\n",
    "    b_opt = y_data_mean - m_opt * x_mean\n",
    "    return m_opt, b_opt\n",
    "\n",
    "fit(x_data,y_data)\n",
    "print('m_opt = %.3f' % (m_opt))\n",
    "print('b_opt = {:.3f}'.format(b_opt)) # note these are two ways of formatting the output to round to 2 decimal places (or 'floating points')"
   ]
  },
  {
   "cell_type": "code",
   "execution_count": null,
   "metadata": {},
   "outputs": [],
   "source": []
  }
 ],
 "metadata": {
  "kernelspec": {
   "display_name": "Python 3",
   "language": "python",
   "name": "python3"
  },
  "language_info": {
   "codemirror_mode": {
    "name": "ipython",
    "version": 3
   },
   "file_extension": ".py",
   "mimetype": "text/x-python",
   "name": "python",
   "nbconvert_exporter": "python",
   "pygments_lexer": "ipython3",
   "version": "3.7.6"
  }
 },
 "nbformat": 4,
 "nbformat_minor": 4
}
