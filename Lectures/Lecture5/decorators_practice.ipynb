{
 "cells": [
  {
   "cell_type": "markdown",
   "metadata": {},
   "source": [
    "# Decorators - revision"
   ]
  },
  {
   "cell_type": "markdown",
   "metadata": {},
   "source": [
    "Source: https://realpython.com/primer-on-python-decorators/"
   ]
  },
  {
   "cell_type": "markdown",
   "metadata": {},
   "source": [
    "## Functions\n",
    "### Inner Functions"
   ]
  },
  {
   "cell_type": "code",
   "execution_count": 1,
   "metadata": {},
   "outputs": [],
   "source": [
    "def parent():\n",
    "    print('parents')\n",
    "    \n",
    "    def first_child():\n",
    "        print('first child')\n",
    "    def second_child():\n",
    "        print('second child')\n",
    "        \n",
    "    second_child()\n",
    "    first_child()"
   ]
  },
  {
   "cell_type": "code",
   "execution_count": 2,
   "metadata": {},
   "outputs": [
    {
     "name": "stdout",
     "output_type": "stream",
     "text": [
      "parents\n",
      "second child\n",
      "first child\n"
     ]
    }
   ],
   "source": [
    "parent()"
   ]
  },
  {
   "cell_type": "markdown",
   "metadata": {},
   "source": [
    "### Functions as First Class Objects\n",
    "When I want to call several functions on the same input."
   ]
  },
  {
   "cell_type": "code",
   "execution_count": 3,
   "metadata": {},
   "outputs": [
    {
     "name": "stdout",
     "output_type": "stream",
     "text": [
      "Hello Rai!\n",
      "Hello Rai! You are awesome!\n"
     ]
    }
   ],
   "source": [
    "def say_hello(name):\n",
    "    print('Hello {}!'.format(name))\n",
    "def say_awesome(name):\n",
    "    print('Hello {}! You are awesome!'.format(name))\n",
    "\n",
    "def greet(func):\n",
    "    func('Rai')\n",
    "    \n",
    "greet(say_hello)\n",
    "greet(say_awesome)"
   ]
  },
  {
   "cell_type": "code",
   "execution_count": 4,
   "metadata": {},
   "outputs": [
    {
     "name": "stdout",
     "output_type": "stream",
     "text": [
      "Hello Rai!\n",
      "Your name is Rai.\n"
     ]
    }
   ],
   "source": [
    "def func_name(name):\n",
    "    print('Your name is {}.'.format(name))\n",
    "\n",
    "def func_greet(name):\n",
    "    print('Hello {}!'.format(name))\n",
    "          \n",
    "def call_func_name(any_func):\n",
    "    any_func('Rai')\n",
    "\n",
    "call_func_name(func_greet)\n",
    "call_func_name(func_name)"
   ]
  },
  {
   "cell_type": "markdown",
   "metadata": {},
   "source": [
    "### Returning Inner Functions from Functions"
   ]
  },
  {
   "cell_type": "code",
   "execution_count": 5,
   "metadata": {},
   "outputs": [],
   "source": [
    "def parent(num):    \n",
    "    def first_child():\n",
    "        return 'first child'\n",
    "    def second_child():\n",
    "        return 'second child'\n",
    "    \n",
    "    if num == 1:\n",
    "        return first_child()\n",
    "    else:\n",
    "        return second_child()"
   ]
  },
  {
   "cell_type": "code",
   "execution_count": 6,
   "metadata": {},
   "outputs": [
    {
     "name": "stdout",
     "output_type": "stream",
     "text": [
      "first child\n"
     ]
    }
   ],
   "source": [
    "print('first child')"
   ]
  },
  {
   "cell_type": "code",
   "execution_count": 7,
   "metadata": {},
   "outputs": [
    {
     "data": {
      "text/plain": [
       "'first child'"
      ]
     },
     "execution_count": 7,
     "metadata": {},
     "output_type": "execute_result"
    }
   ],
   "source": [
    "'first child'"
   ]
  },
  {
   "cell_type": "code",
   "execution_count": 8,
   "metadata": {},
   "outputs": [
    {
     "name": "stdout",
     "output_type": "stream",
     "text": [
      "first child\n"
     ]
    }
   ],
   "source": [
    "def parent(num):    \n",
    "    def first_child():\n",
    "        print('first child')\n",
    "    def second_child():\n",
    "        print('second child')\n",
    "    \n",
    "    if num == 1:\n",
    "        first_child()\n",
    "    else:\n",
    "        second_child()\n",
    "parent(1)"
   ]
  },
  {
   "cell_type": "code",
   "execution_count": 9,
   "metadata": {},
   "outputs": [
    {
     "name": "stdout",
     "output_type": "stream",
     "text": [
      "second child\n"
     ]
    }
   ],
   "source": [
    "parent(2)"
   ]
  },
  {
   "cell_type": "markdown",
   "metadata": {},
   "source": [
    "## Simple Decorators\n",
    "### A Simple Decorator"
   ]
  },
  {
   "cell_type": "code",
   "execution_count": 10,
   "metadata": {},
   "outputs": [
    {
     "name": "stdout",
     "output_type": "stream",
     "text": [
      "before\n",
      "Your name is Rai\n",
      "after\n"
     ]
    }
   ],
   "source": [
    "def my_decorator(func):\n",
    "    def wrapper():\n",
    "        print('before')\n",
    "        func('Rai')\n",
    "        print('after')\n",
    "    return wrapper\n",
    "\n",
    "def say_name(name):\n",
    "    print('Your name is {}'.format(name))\n",
    "    \n",
    "x = my_decorator(say_name)\n",
    "x()"
   ]
  },
  {
   "cell_type": "code",
   "execution_count": 11,
   "metadata": {},
   "outputs": [],
   "source": [
    "def my_decorator(func):\n",
    "    def wrapper():\n",
    "        print(\"Something is happening before the function is called.\")\n",
    "        func()\n",
    "        print(\"Something is happening after the function is called.\")\n",
    "    return wrapper\n",
    "\n",
    "def say_whee():\n",
    "    print(\"Whee!\")\n",
    "\n",
    "say_whee = my_decorator(say_whee)"
   ]
  },
  {
   "cell_type": "code",
   "execution_count": 12,
   "metadata": {},
   "outputs": [
    {
     "name": "stdout",
     "output_type": "stream",
     "text": [
      "Something is happening before the function is called.\n",
      "Whee!\n",
      "Something is happening after the function is called.\n"
     ]
    }
   ],
   "source": [
    "say_whee()"
   ]
  },
  {
   "cell_type": "code",
   "execution_count": 13,
   "metadata": {},
   "outputs": [
    {
     "name": "stdout",
     "output_type": "stream",
     "text": [
      "before\n",
      "Your name is Rai\n",
      "after\n"
     ]
    }
   ],
   "source": [
    "def call_anyfunc(func):\n",
    "    print('before')\n",
    "    func('Rai')\n",
    "    print('after')\n",
    "\n",
    "x = call_anyfunc(say_name)"
   ]
  },
  {
   "cell_type": "code",
   "execution_count": 14,
   "metadata": {},
   "outputs": [
    {
     "ename": "TypeError",
     "evalue": "'NoneType' object is not callable",
     "output_type": "error",
     "traceback": [
      "\u001b[0;31m---------------------------------------------------------------------------\u001b[0m",
      "\u001b[0;31mTypeError\u001b[0m                                 Traceback (most recent call last)",
      "\u001b[0;32m<ipython-input-14-08f9d0828de0>\u001b[0m in \u001b[0;36m<module>\u001b[0;34m\u001b[0m\n\u001b[0;32m----> 1\u001b[0;31m \u001b[0mx\u001b[0m\u001b[0;34m(\u001b[0m\u001b[0;34m)\u001b[0m\u001b[0;34m\u001b[0m\u001b[0;34m\u001b[0m\u001b[0m\n\u001b[0m",
      "\u001b[0;31mTypeError\u001b[0m: 'NoneType' object is not callable"
     ]
    }
   ],
   "source": [
    "x()"
   ]
  },
  {
   "cell_type": "code",
   "execution_count": null,
   "metadata": {},
   "outputs": [],
   "source": []
  },
  {
   "cell_type": "markdown",
   "metadata": {},
   "source": [
    "Something interesting happening by enclosing stuff inside the 'wrapper' function"
   ]
  },
  {
   "cell_type": "code",
   "execution_count": 15,
   "metadata": {},
   "outputs": [],
   "source": [
    "def call_anyfunc(func):\n",
    "    def wrapper():\n",
    "        print('before')\n",
    "        func('Rai')\n",
    "        print('after')\n",
    "    return wrapper\n",
    "\n",
    "x = call_anyfunc(say_name)"
   ]
  },
  {
   "cell_type": "code",
   "execution_count": 16,
   "metadata": {},
   "outputs": [
    {
     "name": "stdout",
     "output_type": "stream",
     "text": [
      "before\n",
      "Your name is Rai\n",
      "after\n"
     ]
    }
   ],
   "source": [
    "x()"
   ]
  },
  {
   "cell_type": "code",
   "execution_count": 17,
   "metadata": {},
   "outputs": [
    {
     "name": "stdout",
     "output_type": "stream",
     "text": [
      "Your name is Rai\n"
     ]
    }
   ],
   "source": [
    "from datetime import datetime\n",
    "\n",
    "def call_any_func(func):\n",
    "    if datetime.now().hour < 22:\n",
    "        func('Rai')\n",
    "    else:\n",
    "        print('Go to bed!')\n",
    "\n",
    "call_any_func(say_name)"
   ]
  },
  {
   "cell_type": "code",
   "execution_count": 18,
   "metadata": {},
   "outputs": [
    {
     "name": "stdout",
     "output_type": "stream",
     "text": [
      "Your name is Rai\n"
     ]
    }
   ],
   "source": [
    "from datetime import datetime\n",
    "\n",
    "def call_any_func(func):\n",
    "    def wrapper():\n",
    "        if datetime.now().hour < 22:\n",
    "            func('Rai')\n",
    "        else:\n",
    "            print('Go to bed!')\n",
    "    return wrapper\n",
    "\n",
    "x = call_any_func(say_name)\n",
    "x()"
   ]
  },
  {
   "cell_type": "markdown",
   "metadata": {},
   "source": [
    "### Using decorators using @ symbol"
   ]
  },
  {
   "cell_type": "code",
   "execution_count": 19,
   "metadata": {},
   "outputs": [],
   "source": [
    "@call_any_func\n",
    "def say_name(name):\n",
    "    print('Your name is {}'.format(name))"
   ]
  },
  {
   "cell_type": "code",
   "execution_count": 20,
   "metadata": {},
   "outputs": [],
   "source": [
    "def my_decorator(func):\n",
    "    def wrapper():\n",
    "        print(\"Something is happening before the function is called.\")\n",
    "        func()\n",
    "        print(\"Something is happening after the function is called.\")\n",
    "    return wrapper\n",
    "\n",
    "@my_decorator\n",
    "def say_whee():\n",
    "    print(\"Whee!\")"
   ]
  },
  {
   "cell_type": "code",
   "execution_count": 21,
   "metadata": {},
   "outputs": [
    {
     "name": "stdout",
     "output_type": "stream",
     "text": [
      "Something is happening before the function is called.\n",
      "Whee!\n",
      "Something is happening after the function is called.\n"
     ]
    }
   ],
   "source": [
    "say_whee()"
   ]
  },
  {
   "cell_type": "code",
   "execution_count": 22,
   "metadata": {},
   "outputs": [
    {
     "name": "stdout",
     "output_type": "stream",
     "text": [
      "Your name is Rai\n"
     ]
    }
   ],
   "source": [
    "from datetime import datetime\n",
    "\n",
    "def call_any_func(func):\n",
    "    def wrapper():\n",
    "        if datetime.now().hour < 22:\n",
    "            func()\n",
    "        else:\n",
    "            print('Go to bed!')\n",
    "    return wrapper\n",
    "\n",
    "@call_any_func\n",
    "def say_name():\n",
    "    print('Your name is Rai')\n",
    "\n",
    "say_name()"
   ]
  },
  {
   "cell_type": "code",
   "execution_count": 23,
   "metadata": {},
   "outputs": [
    {
     "name": "stdout",
     "output_type": "stream",
     "text": [
      "Your name is Rai\n"
     ]
    }
   ],
   "source": [
    "def my_decorator(func):\n",
    "    def wrapper():\n",
    "        print('before')\n",
    "        func('Rai')\n",
    "        print('after')\n",
    "    return wrapper\n",
    "\n",
    "def say_name(name):\n",
    "    print('Your name is {}'.format(name))\n",
    "    \n",
    "say_name('Rai')"
   ]
  },
  {
   "cell_type": "code",
   "execution_count": 24,
   "metadata": {},
   "outputs": [
    {
     "name": "stdout",
     "output_type": "stream",
     "text": [
      "Your name is Rai\n"
     ]
    }
   ],
   "source": [
    "def my_decorator(func):\n",
    "    def wrapper():\n",
    "        print('before')\n",
    "        func('Rai')\n",
    "        print('after')\n",
    "    return wrapper\n",
    "\n",
    "def say_name(name):\n",
    "    print('Your name is {}'.format(name))\n",
    "    \n",
    "say_name('Rai')"
   ]
  },
  {
   "cell_type": "code",
   "execution_count": 25,
   "metadata": {},
   "outputs": [],
   "source": [
    "say_name = my_decorator(say_name)"
   ]
  },
  {
   "cell_type": "code",
   "execution_count": 26,
   "metadata": {},
   "outputs": [
    {
     "name": "stdout",
     "output_type": "stream",
     "text": [
      "before\n",
      "Your name is Rai\n",
      "after\n"
     ]
    }
   ],
   "source": [
    "say_name()"
   ]
  },
  {
   "cell_type": "code",
   "execution_count": 27,
   "metadata": {},
   "outputs": [
    {
     "name": "stdout",
     "output_type": "stream",
     "text": [
      "before\n",
      "Your name is Rai\n",
      "after\n"
     ]
    }
   ],
   "source": [
    "def my_decorator(func):\n",
    "    def wrapper():\n",
    "        print('before')\n",
    "        func('Rai')\n",
    "        print('after')\n",
    "    return wrapper\n",
    "\n",
    "@my_decorator\n",
    "def say_name(name):\n",
    "    print('Your name is {}'.format(name))\n",
    "    \n",
    "say_name()"
   ]
  },
  {
   "cell_type": "code",
   "execution_count": 28,
   "metadata": {},
   "outputs": [
    {
     "name": "stdout",
     "output_type": "stream",
     "text": [
      "before\n",
      "Your name is Rai\n",
      "after\n"
     ]
    }
   ],
   "source": [
    "def my_decorator(func): \n",
    "    def wrapper():\n",
    "        print('before')\n",
    "        func('Rai')\n",
    "        print('after')\n",
    "    return wrapper\n",
    "\n",
    "@my_decorator\n",
    "def say_name(name):\n",
    "    print('Your name is {}'.format(name))\n",
    "    \n",
    "say_name()"
   ]
  },
  {
   "cell_type": "markdown",
   "metadata": {},
   "source": [
    "### Reusing Decorators"
   ]
  },
  {
   "cell_type": "code",
   "execution_count": 29,
   "metadata": {},
   "outputs": [],
   "source": [
    "from decorators import do_twice"
   ]
  },
  {
   "cell_type": "code",
   "execution_count": 30,
   "metadata": {},
   "outputs": [],
   "source": [
    "@do_twice\n",
    "def say_whee():\n",
    "    print(\"Whee!\")"
   ]
  },
  {
   "cell_type": "code",
   "execution_count": 31,
   "metadata": {},
   "outputs": [
    {
     "name": "stdout",
     "output_type": "stream",
     "text": [
      "Whee!\n",
      "Whee!\n"
     ]
    }
   ],
   "source": [
    "say_whee()"
   ]
  },
  {
   "cell_type": "code",
   "execution_count": 32,
   "metadata": {},
   "outputs": [],
   "source": [
    "@do_twice\n",
    "def greet(name):\n",
    "    print(f\"Hello {name}\")"
   ]
  },
  {
   "cell_type": "code",
   "execution_count": 33,
   "metadata": {},
   "outputs": [
    {
     "name": "stdout",
     "output_type": "stream",
     "text": [
      "Hello Rai\n",
      "Hello Rai\n"
     ]
    }
   ],
   "source": [
    "greet('Rai')"
   ]
  },
  {
   "cell_type": "code",
   "execution_count": 34,
   "metadata": {},
   "outputs": [
    {
     "name": "stdout",
     "output_type": "stream",
     "text": [
      "hi Rai!\n",
      "hi Rai!\n"
     ]
    }
   ],
   "source": [
    "def decorator_a(func):\n",
    "    def wrapper():\n",
    "        func('Rai')\n",
    "        func('Rai')\n",
    "    return wrapper\n",
    "\n",
    "def greetfunc(name):\n",
    "    print('hi {}!'.format(name))\n",
    "    \n",
    "a = decorator_a(greetfunc)\n",
    "a()"
   ]
  },
  {
   "cell_type": "code",
   "execution_count": 35,
   "metadata": {},
   "outputs": [
    {
     "name": "stdout",
     "output_type": "stream",
     "text": [
      "hi Rai!\n",
      "hi Rai!\n"
     ]
    }
   ],
   "source": [
    "def decorator_b(func):\n",
    "    def wrapper(*args, **kwargs):\n",
    "        func(*args, **kwargs)\n",
    "        func(*args, **kwargs)\n",
    "    return wrapper\n",
    "\n",
    "@decorator_b\n",
    "def greetfunc(name):\n",
    "    print('hi {}!'.format(name))\n",
    "greetfunc('Rai')  "
   ]
  },
  {
   "cell_type": "code",
   "execution_count": 36,
   "metadata": {},
   "outputs": [],
   "source": [
    "import functools\n",
    "from decorators import do_twice_return\n",
    "\n",
    "@do_twice_return\n",
    "def return_greeting(name):\n",
    "    print(\"Creating greeting\")\n",
    "    return f\"Hi {name}\""
   ]
  },
  {
   "cell_type": "code",
   "execution_count": 37,
   "metadata": {},
   "outputs": [
    {
     "name": "stdout",
     "output_type": "stream",
     "text": [
      "Creating greeting\n",
      "Creating greeting\n"
     ]
    },
    {
     "data": {
      "text/plain": [
       "'Hi Rai'"
      ]
     },
     "execution_count": 37,
     "metadata": {},
     "output_type": "execute_result"
    }
   ],
   "source": [
    "return_greeting('Rai')"
   ]
  },
  {
   "cell_type": "code",
   "execution_count": 38,
   "metadata": {},
   "outputs": [
    {
     "name": "stdout",
     "output_type": "stream",
     "text": [
      "Help on function return_greeting in module __main__:\n",
      "\n",
      "return_greeting(name)\n",
      "\n"
     ]
    }
   ],
   "source": [
    "help(return_greeting)"
   ]
  },
  {
   "cell_type": "markdown",
   "metadata": {},
   "source": [
    "## Real World Examples"
   ]
  },
  {
   "cell_type": "markdown",
   "metadata": {},
   "source": [
    "### Basic Template"
   ]
  },
  {
   "cell_type": "code",
   "execution_count": 39,
   "metadata": {},
   "outputs": [],
   "source": [
    "import functools\n",
    "\n",
    "def decorator(func):\n",
    "    @functools.wraps(func)\n",
    "    def wrapper_decorator(*args, **kwargs):\n",
    "        # Do something before\n",
    "        value = func(*args, **kwargs)\n",
    "        # Do something after\n",
    "        return value\n",
    "    return wrapper_decorator"
   ]
  },
  {
   "cell_type": "markdown",
   "metadata": {},
   "source": [
    "### Timing Functions"
   ]
  },
  {
   "cell_type": "code",
   "execution_count": 40,
   "metadata": {},
   "outputs": [
    {
     "name": "stdout",
     "output_type": "stream",
     "text": [
      "Finished 'waste_some_time' in 0.0000 secs\n"
     ]
    },
    {
     "data": {
      "text/plain": [
       "[0]"
      ]
     },
     "execution_count": 40,
     "metadata": {},
     "output_type": "execute_result"
    }
   ],
   "source": [
    "import functools\n",
    "import time\n",
    "\n",
    "def tictoc(func):\n",
    "    def wrapper(*args, **kwargs):\n",
    "        start = time.perf_counter()\n",
    "        val = func(*args, *kwargs)\n",
    "        end = time.perf_counter()\n",
    "        dt = end-start\n",
    "        print (f\"Finished {func.__name__!r} in {dt:.4f} secs\")\n",
    "        return val\n",
    "    return wrapper\n",
    "\n",
    "@tictoc\n",
    "def waste_some_time(num_times):\n",
    "    a = []\n",
    "    for i in range(num_times):\n",
    "        a.append(i)\n",
    "    return a\n",
    "\n",
    "waste_some_time(1)"
   ]
  },
  {
   "cell_type": "code",
   "execution_count": 41,
   "metadata": {},
   "outputs": [
    {
     "name": "stdout",
     "output_type": "stream",
     "text": [
      "Finished 'waste_some_time' in 0.0000 secs\n"
     ]
    },
    {
     "data": {
      "text/plain": [
       "[0, 1, 2, 3, 4]"
      ]
     },
     "execution_count": 41,
     "metadata": {},
     "output_type": "execute_result"
    }
   ],
   "source": [
    "import functools\n",
    "import time\n",
    "\n",
    "def timer(func):\n",
    "    \"\"\"Print the runtime of the decorated function\"\"\"\n",
    "    @functools.wraps(func)\n",
    "    def wrapper_timer(*args, **kwargs):\n",
    "        start_time = time.perf_counter()    # 1\n",
    "        value = func(*args, **kwargs)\n",
    "        end_time = time.perf_counter()      # 2\n",
    "        run_time = end_time - start_time    # 3\n",
    "        print(f\"Finished {func.__name__!r} in {run_time:.4f} secs\")\n",
    "        return value \n",
    "        return run_time\n",
    "    return wrapper_timer\n",
    "  \n",
    "\n",
    "@timer\n",
    "def waste_some_time(num_times):\n",
    "    a = []\n",
    "    for i in range(num_times):\n",
    "        a.append(i)\n",
    "    return a\n",
    "\n",
    "waste_some_time(5)"
   ]
  },
  {
   "cell_type": "code",
   "execution_count": null,
   "metadata": {},
   "outputs": [],
   "source": []
  },
  {
   "cell_type": "code",
   "execution_count": null,
   "metadata": {},
   "outputs": [],
   "source": []
  },
  {
   "cell_type": "code",
   "execution_count": null,
   "metadata": {},
   "outputs": [],
   "source": []
  },
  {
   "cell_type": "code",
   "execution_count": null,
   "metadata": {},
   "outputs": [],
   "source": []
  }
 ],
 "metadata": {
  "kernelspec": {
   "display_name": "Python 3",
   "language": "python",
   "name": "python3"
  },
  "language_info": {
   "codemirror_mode": {
    "name": "ipython",
    "version": 3
   },
   "file_extension": ".py",
   "mimetype": "text/x-python",
   "name": "python",
   "nbconvert_exporter": "python",
   "pygments_lexer": "ipython3",
   "version": "3.7.6"
  }
 },
 "nbformat": 4,
 "nbformat_minor": 4
}
