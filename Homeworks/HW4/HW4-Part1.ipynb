{
 "cells": [
  {
   "cell_type": "markdown",
   "metadata": {},
   "source": [
    "# HW4 Part 1 - Review of Python Classes\n",
    "\n",
    "April 21, 2020\n",
    "\n",
    "The following is meant to be a brief review of classes in Python. If you feel comfortable with building and manipulating classes in Python, feel free to skim this part"
   ]
  },
  {
   "cell_type": "code",
   "execution_count": 2,
   "metadata": {},
   "outputs": [],
   "source": [
    "import numpy as np\n",
    "import matplotlib.pyplot as plt\n",
    "import pandas as pd"
   ]
  },
  {
   "cell_type": "markdown",
   "metadata": {},
   "source": [
    "## 1a) Create a class \"`Dog`\" with an `__init__` function that takes in the variable `name`"
   ]
  },
  {
   "cell_type": "code",
   "execution_count": 3,
   "metadata": {},
   "outputs": [],
   "source": [
    "class Dog:\n",
    "\n",
    "    def __init__(self, name):\n",
    "       self.name = name\n",
    "        # assign 'name' to self here as a data attribute"
   ]
  },
  {
   "cell_type": "code",
   "execution_count": 4,
   "metadata": {},
   "outputs": [],
   "source": [
    "mydog = Dog('Jojo')"
   ]
  },
  {
   "cell_type": "code",
   "execution_count": 5,
   "metadata": {},
   "outputs": [
    {
     "data": {
      "text/plain": [
       "'Jojo'"
      ]
     },
     "execution_count": 5,
     "metadata": {},
     "output_type": "execute_result"
    }
   ],
   "source": [
    "mydog.name"
   ]
  },
  {
   "cell_type": "markdown",
   "metadata": {},
   "source": [
    "# 1b) Add a method to this class `add_trick` that takes in a variable `trick`\n",
    "Keep in mind that a Dog might learn many tricks - you might keep track of the tricks it learns in a list"
   ]
  },
  {
   "cell_type": "code",
   "execution_count": 6,
   "metadata": {},
   "outputs": [],
   "source": [
    "class Dog:\n",
    "\n",
    "    def __init__(self, name): \n",
    "        self.name = name\n",
    "        self.trick = []\n",
    "        \n",
    "    def add_trick(self, trick): # this is a method attribute\n",
    "        self.trick.append(trick)          "
   ]
  },
  {
   "cell_type": "code",
   "execution_count": 7,
   "metadata": {},
   "outputs": [
    {
     "data": {
      "text/plain": [
       "['roll over', 'play dead', 'flippy flip']"
      ]
     },
     "execution_count": 7,
     "metadata": {},
     "output_type": "execute_result"
    }
   ],
   "source": [
    "# test your code\n",
    "mydog = Dog('Jojo')\n",
    "mydog.add_trick('roll over')\n",
    "mydog.add_trick('play dead')\n",
    "mydog.add_trick('flippy flip')\n",
    "\n",
    "# print the tricks here\n",
    "mydog.trick #complete here"
   ]
  },
  {
   "cell_type": "markdown",
   "metadata": {},
   "source": [
    "## 1c) Modify the class so that it keeps track of the dog's age, gender and species\n",
    "Would these be better as a data attributes or as a method attributes?"
   ]
  },
  {
   "cell_type": "code",
   "execution_count": 8,
   "metadata": {},
   "outputs": [],
   "source": [
    "class Dog:\n",
    "\n",
    "    def __init__(self, name, age, gender, species): \n",
    "        self.name = name\n",
    "        self.age = age\n",
    "        self.gender = gender\n",
    "        self.species = species\n",
    "        self.trick = []\n",
    "        \n",
    "    def add_trick(self, trick): # this is a method attribute\n",
    "        self.trick.append(trick)          \n"
   ]
  },
  {
   "cell_type": "markdown",
   "metadata": {},
   "source": [
    "## 1d) Create 3 dogs with various characteristics, and assign them different tricks"
   ]
  },
  {
   "cell_type": "code",
   "execution_count": 9,
   "metadata": {},
   "outputs": [],
   "source": [
    "dog1 = Dog('PeanutButter',12,'male','mammal')\n",
    "Dog.add_trick(dog1, 'play dead')\n",
    "dog2 = Dog('Dexter',10,'male','mammal')\n",
    "Dog.add_trick(dog2, 'roll over')\n",
    "dog3 = Dog('Fuzz',11,'male','mammal')\n",
    "Dog.add_trick(dog3, 'flippy flip')"
   ]
  },
  {
   "cell_type": "markdown",
   "metadata": {},
   "source": [
    "## 1e) Create a method/function `print_summary` for the Dog class that prints all the relevant data and tricks"
   ]
  },
  {
   "cell_type": "code",
   "execution_count": 10,
   "metadata": {},
   "outputs": [],
   "source": [
    "class Dog:\n",
    "\n",
    "    def __init__(self, name, age, gender, species): \n",
    "        self.name = name\n",
    "        self.age = age\n",
    "        self.gender = gender\n",
    "        self.species = species\n",
    "        self.trick = []\n",
    "        \n",
    "    def add_trick(self, trick): # this is a method attribute        \n",
    "        self.trick.append(trick)\n",
    "\n",
    "    def print_summary(self):\n",
    "        return print('name: {} \\n age: {} \\n gender: {} \\n species: {} \\n trick: {} \\n'.format(self.name, \n",
    "                                                                               self.age, \n",
    "                                                                               self.gender, \n",
    "                                                                               self.species, self.trick))\n"
   ]
  },
  {
   "cell_type": "code",
   "execution_count": 11,
   "metadata": {},
   "outputs": [
    {
     "name": "stdout",
     "output_type": "stream",
     "text": [
      "name: PeanutButter \n",
      " age: 12 \n",
      " gender: male \n",
      " species: mammal \n",
      " trick: ['play dead', 'roll over'] \n",
      "\n",
      "name: Dexter \n",
      " age: 10 \n",
      " gender: male \n",
      " species: mammal \n",
      " trick: ['roll over'] \n",
      "\n",
      "name: Fuzz \n",
      " age: 11 \n",
      " gender: male \n",
      " species: mammal \n",
      " trick: ['flippy flip'] \n",
      "\n"
     ]
    }
   ],
   "source": [
    "# create 3 dogs again with your new/modified class and \n",
    "dog1 = Dog('PeanutButter',12,'male', 'mammal')\n",
    "Dog.add_trick(dog1, 'play dead')\n",
    "Dog.add_trick(dog1, 'roll over')\n",
    "dog2 = Dog('Dexter',10,'male','mammal')\n",
    "Dog.add_trick(dog2, 'roll over')\n",
    "dog3 = Dog('Fuzz',11,'male','mammal')\n",
    "Dog.add_trick(dog3, 'flippy flip')\n",
    "\n",
    "dogs = [dog1, dog2, dog3]\n",
    "for d in dogs:\n",
    "    d.print_summary()"
   ]
  },
  {
   "cell_type": "markdown",
   "metadata": {},
   "source": [
    "## 1f) Finally, create a function/method that returns a pandas dataframe of the dog's name, age, gender species and tricks"
   ]
  },
  {
   "cell_type": "markdown",
   "metadata": {},
   "source": [
    "This code should run. What do you notice about having multiple tricks?"
   ]
  },
  {
   "cell_type": "code",
   "execution_count": 12,
   "metadata": {},
   "outputs": [
    {
     "data": {
      "text/html": [
       "<div>\n",
       "<style scoped>\n",
       "    .dataframe tbody tr th:only-of-type {\n",
       "        vertical-align: middle;\n",
       "    }\n",
       "\n",
       "    .dataframe tbody tr th {\n",
       "        vertical-align: top;\n",
       "    }\n",
       "\n",
       "    .dataframe thead th {\n",
       "        text-align: right;\n",
       "    }\n",
       "</style>\n",
       "<table border=\"1\" class=\"dataframe\">\n",
       "  <thead>\n",
       "    <tr style=\"text-align: right;\">\n",
       "      <th></th>\n",
       "      <th>name</th>\n",
       "      <th>age</th>\n",
       "      <th>gender</th>\n",
       "      <th>species</th>\n",
       "      <th>tricks</th>\n",
       "    </tr>\n",
       "  </thead>\n",
       "  <tbody>\n",
       "    <tr>\n",
       "      <th>0</th>\n",
       "      <td>Jojo</td>\n",
       "      <td>12</td>\n",
       "      <td>M</td>\n",
       "      <td>collie</td>\n",
       "      <td>roll over</td>\n",
       "    </tr>\n",
       "    <tr>\n",
       "      <th>1</th>\n",
       "      <td>Jojo</td>\n",
       "      <td>12</td>\n",
       "      <td>M</td>\n",
       "      <td>collie</td>\n",
       "      <td>flippy flip</td>\n",
       "    </tr>\n",
       "  </tbody>\n",
       "</table>\n",
       "</div>"
      ],
      "text/plain": [
       "   name  age gender species       tricks\n",
       "0  Jojo   12      M  collie    roll over\n",
       "1  Jojo   12      M  collie  flippy flip"
      ]
     },
     "execution_count": 12,
     "metadata": {},
     "output_type": "execute_result"
    }
   ],
   "source": [
    "class Dog:\n",
    "\n",
    "    def __init__(self, name, age, gender, species): \n",
    "        self.name = name\n",
    "        self.age = age\n",
    "        self.gender = gender\n",
    "        self.species = species\n",
    "        self.trick = []\n",
    "        \n",
    "    def add_trick(self, trick): # this is a method attribute        \n",
    "        self.trick.append(trick)\n",
    "\n",
    "    def print_summary(self):\n",
    "        return print('name: {} \\n age: {} \\n gender: {} \\n species: {} \\n trick: {} \\n'.format(self.name, \n",
    "                                                                               self.age, \n",
    "                                                                               self.gender, \n",
    "                                                                               self.species, self.trick))\n",
    "    def return_df(self):\n",
    "        dict = {\n",
    "            'name':self.name,\n",
    "            'age':self.age,\n",
    "            'gender':self.gender,\n",
    "            'species':self.species,\n",
    "            'tricks':self.trick\n",
    "        }\n",
    "        df = pd.DataFrame(data=dict)\n",
    "        return df\n",
    "    \n",
    "jojo = Dog(name='Jojo',age=12,gender='M',species='collie')\n",
    "\n",
    "jojo.add_trick('roll over')\n",
    "jojo.add_trick('flippy flip')\n",
    "\n",
    "df = jojo.return_df()\n",
    "df"
   ]
  },
  {
   "cell_type": "code",
   "execution_count": null,
   "metadata": {},
   "outputs": [],
   "source": []
  }
 ],
 "metadata": {
  "kernelspec": {
   "display_name": "Python 3",
   "language": "python",
   "name": "python3"
  },
  "language_info": {
   "codemirror_mode": {
    "name": "ipython",
    "version": 3
   },
   "file_extension": ".py",
   "mimetype": "text/x-python",
   "name": "python",
   "nbconvert_exporter": "python",
   "pygments_lexer": "ipython3",
   "version": "3.7.6"
  }
 },
 "nbformat": 4,
 "nbformat_minor": 4
}
